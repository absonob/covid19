{
 "cells": [
  {
   "cell_type": "code",
   "execution_count": 4,
   "metadata": {
    "scrolled": false
   },
   "outputs": [],
   "source": [
    "import pandas as pd\n",
    "import datetime as d\n",
    "import numpy as np"
   ]
  },
  {
   "cell_type": "code",
   "execution_count": 5,
   "metadata": {
    "scrolled": false
   },
   "outputs": [],
   "source": [
    "def path(month, day):\n",
    "    file_dir = \"C:\\\\Users\\\\User\\Documents\\Datasets\\covid_data\\covid_raw_data\\covid_\"\n",
    "    ext = \".csv\"\n",
    "    file_path = file_dir+month+str(day)+ext\n",
    "    return file_path"
   ]
  },
  {
   "cell_type": "code",
   "execution_count": 6,
   "metadata": {
    "scrolled": false
   },
   "outputs": [],
   "source": [
    "from urllib.request import urlretrieve\n",
    "link = \"https://covid19.who.int/WHO-COVID-19-global-data.csv\"\n",
    "url = link"
   ]
  },
  {
   "cell_type": "markdown",
   "metadata": {},
   "source": [
    "# -----------------------------------------------------"
   ]
  },
  {
   "cell_type": "code",
   "execution_count": 7,
   "metadata": {},
   "outputs": [],
   "source": [
    "#define file date\n",
    "def month_day():\n",
    "    date = d.date.today()\n",
    "    month=date.strftime(\"%B\")\n",
    "    day=date.day\n",
    "    return month,day"
   ]
  },
  {
   "cell_type": "code",
   "execution_count": 8,
   "metadata": {
    "scrolled": false
   },
   "outputs": [
    {
     "name": "stdout",
     "output_type": "stream",
     "text": [
      "File is located here: \n",
      " C:\\Users\\User\\Documents\\Datasets\\covid_data\\covid_raw_data\\covid_July23.csv\n"
     ]
    }
   ],
   "source": [
    "#retrieve and save file in specified folder\n",
    "month, day = month_day()\n",
    "file_path = path(month,day)\n",
    "\n",
    "urlretrieve(url,file_path)\n",
    "print(\"File is located here: \\n\", file_path)"
   ]
  },
  {
   "cell_type": "markdown",
   "metadata": {},
   "source": [
    "# -----------------------------------------------------"
   ]
  },
  {
   "cell_type": "code",
   "execution_count": 54,
   "metadata": {},
   "outputs": [],
   "source": [
    "#define file name and where to save cleaned set\n",
    "def cleaned_path(mon, day):\n",
    "    file_dir = \"C:\\\\Users\\\\User\\Documents\\Datasets\\covid_data\\cleaned_data\\covid_\"\n",
    "    clean_path = file_dir + str(mon) + str(day)\n",
    "    return clean_path"
   ]
  },
  {
   "cell_type": "code",
   "execution_count": 55,
   "metadata": {},
   "outputs": [
    {
     "name": "stdout",
     "output_type": "stream",
     "text": [
      "Cleaned file is located here: \n",
      " C:\\Users\\User\\Documents\\Datasets\\covid_data\\cleaned_data\\covid_July23\n"
     ]
    }
   ],
   "source": [
    "month, day = month_day()\n",
    "clean_path = cleaned_path(month, day)\n",
    "print('Cleaned file is located here: \\n', clean_path)"
   ]
  },
  {
   "cell_type": "code",
   "execution_count": 56,
   "metadata": {},
   "outputs": [
    {
     "data": {
      "text/plain": [
       "'C:\\\\Users\\\\User\\\\Documents\\\\Datasets\\\\covid_data\\\\cleaned_data\\\\covid_July23.csv'"
      ]
     },
     "execution_count": 56,
     "metadata": {},
     "output_type": "execute_result"
    }
   ],
   "source": [
    "clean_path+\".csv\""
   ]
  },
  {
   "cell_type": "code",
   "execution_count": 57,
   "metadata": {},
   "outputs": [],
   "source": [
    "#save \n",
    "df.to_csv(clean_path+\".csv\", index=False)"
   ]
  },
  {
   "cell_type": "code",
   "execution_count": 58,
   "metadata": {},
   "outputs": [
    {
     "data": {
      "text/plain": [
       "'C:\\\\Users\\\\User\\\\Documents\\\\Datasets\\\\covid_data\\\\cleaned_data\\\\covid_July23'"
      ]
     },
     "execution_count": 58,
     "metadata": {},
     "output_type": "execute_result"
    }
   ],
   "source": [
    "clean_path"
   ]
  },
  {
   "cell_type": "markdown",
   "metadata": {},
   "source": [
    "# -----------------------------------------------------"
   ]
  },
  {
   "cell_type": "code",
   "execution_count": 60,
   "metadata": {},
   "outputs": [],
   "source": [
    "df.to_excel(clean_path+\".xlsx\", sheet_name='Sheet1', index=False)"
   ]
  },
  {
   "cell_type": "code",
   "execution_count": null,
   "metadata": {},
   "outputs": [],
   "source": []
  },
  {
   "cell_type": "code",
   "execution_count": 51,
   "metadata": {},
   "outputs": [],
   "source": [
    "#df.to_sql(clean_path, index=False)"
   ]
  },
  {
   "cell_type": "markdown",
   "metadata": {},
   "source": [
    "# -----------------------------------------------"
   ]
  },
  {
   "cell_type": "code",
   "execution_count": 276,
   "metadata": {
    "scrolled": false
   },
   "outputs": [
    {
     "name": "stdout",
     "output_type": "stream",
     "text": [
      "File is located here: \n",
      " C:\\Users\\User\\Documents\\Datasets\\covid_data\\covid_raw_data\\covid_July23.csv\n"
     ]
    }
   ],
   "source": [
    "#daily\n",
    "month = \"July\"\n",
    "day = str(23)\n",
    "\n",
    "#choose from either cleaned_data folder or raw_data folder\n",
    "#folder = \"cleaned_data\"\n",
    "\n",
    "current_path = path(month,day)\n",
    "print(\"File is located here: \\n\", file_path)"
   ]
  },
  {
   "cell_type": "markdown",
   "metadata": {},
   "source": [
    "# -----------------------------------------------"
   ]
  },
  {
   "cell_type": "code",
   "execution_count": 14,
   "metadata": {
    "scrolled": false
   },
   "outputs": [
    {
     "name": "stdout",
     "output_type": "stream",
     "text": [
      "C:\\Users\\User\\Documents\\Datasets\\covid_data\\covid_raw_data\\covid_July23.csv\n"
     ]
    }
   ],
   "source": [
    "df = pd.read_csv(file_path)\n",
    "df2 = df.copy()\n",
    "print(file_path)"
   ]
  },
  {
   "cell_type": "code",
   "execution_count": 23,
   "metadata": {
    "scrolled": false
   },
   "outputs": [
    {
     "name": "stdout",
     "output_type": "stream",
     "text": [
      "<class 'pandas.core.frame.DataFrame'>\n",
      "RangeIndex: 30148 entries, 0 to 30147\n",
      "Data columns (total 8 columns):\n",
      " #   Column             Non-Null Count  Dtype \n",
      "---  ------             --------------  ----- \n",
      " 0   date_reported      30148 non-null  object\n",
      " 1   country_code       30016 non-null  object\n",
      " 2   country            30148 non-null  object\n",
      " 3   who_region         30148 non-null  object\n",
      " 4   new_cases          30148 non-null  int64 \n",
      " 5   cumulative_cases   30148 non-null  int64 \n",
      " 6   new_deaths         30148 non-null  int64 \n",
      " 7   cumulative_deaths  30148 non-null  int64 \n",
      "dtypes: int64(4), object(4)\n",
      "memory usage: 1.8+ MB\n"
     ]
    }
   ],
   "source": [
    "df.info()"
   ]
  },
  {
   "cell_type": "code",
   "execution_count": 24,
   "metadata": {
    "scrolled": false
   },
   "outputs": [
    {
     "data": {
      "text/html": [
       "<div>\n",
       "<style scoped>\n",
       "    .dataframe tbody tr th:only-of-type {\n",
       "        vertical-align: middle;\n",
       "    }\n",
       "\n",
       "    .dataframe tbody tr th {\n",
       "        vertical-align: top;\n",
       "    }\n",
       "\n",
       "    .dataframe thead th {\n",
       "        text-align: right;\n",
       "    }\n",
       "</style>\n",
       "<table border=\"1\" class=\"dataframe\">\n",
       "  <thead>\n",
       "    <tr style=\"text-align: right;\">\n",
       "      <th></th>\n",
       "      <th>date_reported</th>\n",
       "      <th>country_code</th>\n",
       "      <th>country</th>\n",
       "      <th>who_region</th>\n",
       "      <th>new_cases</th>\n",
       "      <th>cumulative_cases</th>\n",
       "      <th>new_deaths</th>\n",
       "      <th>cumulative_deaths</th>\n",
       "    </tr>\n",
       "  </thead>\n",
       "  <tbody>\n",
       "    <tr>\n",
       "      <th>0</th>\n",
       "      <td>2020-02-24</td>\n",
       "      <td>AF</td>\n",
       "      <td>Afghanistan</td>\n",
       "      <td>EMRO</td>\n",
       "      <td>1</td>\n",
       "      <td>1</td>\n",
       "      <td>0</td>\n",
       "      <td>0</td>\n",
       "    </tr>\n",
       "    <tr>\n",
       "      <th>1</th>\n",
       "      <td>2020-02-25</td>\n",
       "      <td>AF</td>\n",
       "      <td>Afghanistan</td>\n",
       "      <td>EMRO</td>\n",
       "      <td>0</td>\n",
       "      <td>1</td>\n",
       "      <td>0</td>\n",
       "      <td>0</td>\n",
       "    </tr>\n",
       "    <tr>\n",
       "      <th>2</th>\n",
       "      <td>2020-02-26</td>\n",
       "      <td>AF</td>\n",
       "      <td>Afghanistan</td>\n",
       "      <td>EMRO</td>\n",
       "      <td>0</td>\n",
       "      <td>1</td>\n",
       "      <td>0</td>\n",
       "      <td>0</td>\n",
       "    </tr>\n",
       "    <tr>\n",
       "      <th>3</th>\n",
       "      <td>2020-02-27</td>\n",
       "      <td>AF</td>\n",
       "      <td>Afghanistan</td>\n",
       "      <td>EMRO</td>\n",
       "      <td>0</td>\n",
       "      <td>1</td>\n",
       "      <td>0</td>\n",
       "      <td>0</td>\n",
       "    </tr>\n",
       "    <tr>\n",
       "      <th>4</th>\n",
       "      <td>2020-02-28</td>\n",
       "      <td>AF</td>\n",
       "      <td>Afghanistan</td>\n",
       "      <td>EMRO</td>\n",
       "      <td>0</td>\n",
       "      <td>1</td>\n",
       "      <td>0</td>\n",
       "      <td>0</td>\n",
       "    </tr>\n",
       "  </tbody>\n",
       "</table>\n",
       "</div>"
      ],
      "text/plain": [
       "  date_reported country_code      country who_region  new_cases  \\\n",
       "0    2020-02-24           AF  Afghanistan       EMRO          1   \n",
       "1    2020-02-25           AF  Afghanistan       EMRO          0   \n",
       "2    2020-02-26           AF  Afghanistan       EMRO          0   \n",
       "3    2020-02-27           AF  Afghanistan       EMRO          0   \n",
       "4    2020-02-28           AF  Afghanistan       EMRO          0   \n",
       "\n",
       "   cumulative_cases  new_deaths  cumulative_deaths  \n",
       "0                 1           0                  0  \n",
       "1                 1           0                  0  \n",
       "2                 1           0                  0  \n",
       "3                 1           0                  0  \n",
       "4                 1           0                  0  "
      ]
     },
     "execution_count": 24,
     "metadata": {},
     "output_type": "execute_result"
    }
   ],
   "source": [
    "df.head()"
   ]
  },
  {
   "cell_type": "code",
   "execution_count": 25,
   "metadata": {
    "scrolled": false
   },
   "outputs": [
    {
     "data": {
      "text/plain": [
       "Index(['date_reported', 'country_code', 'country', 'who_region', 'new_cases',\n",
       "       'cumulative_cases', 'new_deaths', 'cumulative_deaths'],\n",
       "      dtype='object')"
      ]
     },
     "execution_count": 25,
     "metadata": {},
     "output_type": "execute_result"
    }
   ],
   "source": [
    "df.columns"
   ]
  },
  {
   "cell_type": "code",
   "execution_count": 26,
   "metadata": {
    "scrolled": false
   },
   "outputs": [
    {
     "data": {
      "text/html": [
       "<div>\n",
       "<style scoped>\n",
       "    .dataframe tbody tr th:only-of-type {\n",
       "        vertical-align: middle;\n",
       "    }\n",
       "\n",
       "    .dataframe tbody tr th {\n",
       "        vertical-align: top;\n",
       "    }\n",
       "\n",
       "    .dataframe thead th {\n",
       "        text-align: right;\n",
       "    }\n",
       "</style>\n",
       "<table border=\"1\" class=\"dataframe\">\n",
       "  <thead>\n",
       "    <tr style=\"text-align: right;\">\n",
       "      <th></th>\n",
       "      <th>date_reported</th>\n",
       "      <th>country_code</th>\n",
       "      <th>country</th>\n",
       "      <th>who_region</th>\n",
       "      <th>new_cases</th>\n",
       "      <th>cumulative_cases</th>\n",
       "      <th>new_deaths</th>\n",
       "      <th>cumulative_deaths</th>\n",
       "    </tr>\n",
       "  </thead>\n",
       "  <tbody>\n",
       "  </tbody>\n",
       "</table>\n",
       "</div>"
      ],
      "text/plain": [
       "Empty DataFrame\n",
       "Columns: [date_reported, country_code, country, who_region, new_cases, cumulative_cases, new_deaths, cumulative_deaths]\n",
       "Index: []"
      ]
     },
     "execution_count": 26,
     "metadata": {},
     "output_type": "execute_result"
    }
   ],
   "source": [
    "#clean column names\n",
    "df.columns\n",
    "columns = df.columns.to_list()\n",
    "cols = []\n",
    "\n",
    "for x in columns:\n",
    "    cols.append(x.lower().strip())\n",
    "\n",
    "df.columns = cols\n",
    "df.head(0)"
   ]
  },
  {
   "cell_type": "code",
   "execution_count": 19,
   "metadata": {
    "scrolled": false
   },
   "outputs": [
    {
     "data": {
      "text/plain": [
       "Index(['date_reported', 'country_code', 'country', 'who_region', 'new_cases',\n",
       "       'cumulative_cases', 'new_deaths', 'cumulative_deaths'],\n",
       "      dtype='object')"
      ]
     },
     "execution_count": 19,
     "metadata": {},
     "output_type": "execute_result"
    }
   ],
   "source": [
    "df.columns"
   ]
  },
  {
   "cell_type": "code",
   "execution_count": 223,
   "metadata": {
    "scrolled": false
   },
   "outputs": [],
   "source": [
    "import re"
   ]
  },
  {
   "cell_type": "code",
   "execution_count": 27,
   "metadata": {
    "scrolled": false
   },
   "outputs": [
    {
     "data": {
      "text/plain": [
       "date_reported          0\n",
       "country_code         132\n",
       "country                0\n",
       "who_region             0\n",
       "new_cases              0\n",
       "cumulative_cases       0\n",
       "new_deaths             0\n",
       "cumulative_deaths      0\n",
       "dtype: int64"
      ]
     },
     "execution_count": 27,
     "metadata": {},
     "output_type": "execute_result"
    }
   ],
   "source": [
    "df.isnull().sum()"
   ]
  },
  {
   "cell_type": "code",
   "execution_count": null,
   "metadata": {
    "scrolled": false
   },
   "outputs": [],
   "source": []
  },
  {
   "cell_type": "code",
   "execution_count": 28,
   "metadata": {
    "scrolled": false
   },
   "outputs": [],
   "source": [
    "#df[df['who_region'] == 'undefined']"
   ]
  },
  {
   "cell_type": "code",
   "execution_count": 29,
   "metadata": {
    "scrolled": false
   },
   "outputs": [],
   "source": [
    "dfSort = df.loc[:, ['country_code','country']].sort_values(by=['country_code'])\n"
   ]
  },
  {
   "cell_type": "code",
   "execution_count": 30,
   "metadata": {
    "scrolled": false
   },
   "outputs": [],
   "source": [
    "df.replace(np.nan, 'NA', inplace=True)"
   ]
  },
  {
   "cell_type": "code",
   "execution_count": 31,
   "metadata": {
    "scrolled": false
   },
   "outputs": [
    {
     "data": {
      "text/html": [
       "<div>\n",
       "<style scoped>\n",
       "    .dataframe tbody tr th:only-of-type {\n",
       "        vertical-align: middle;\n",
       "    }\n",
       "\n",
       "    .dataframe tbody tr th {\n",
       "        vertical-align: top;\n",
       "    }\n",
       "\n",
       "    .dataframe thead th {\n",
       "        text-align: right;\n",
       "    }\n",
       "</style>\n",
       "<table border=\"1\" class=\"dataframe\">\n",
       "  <thead>\n",
       "    <tr style=\"text-align: right;\">\n",
       "      <th></th>\n",
       "      <th>date_reported</th>\n",
       "      <th>country_code</th>\n",
       "      <th>country</th>\n",
       "      <th>who_region</th>\n",
       "      <th>new_cases</th>\n",
       "      <th>cumulative_cases</th>\n",
       "      <th>new_deaths</th>\n",
       "      <th>cumulative_deaths</th>\n",
       "    </tr>\n",
       "  </thead>\n",
       "  <tbody>\n",
       "    <tr>\n",
       "      <th>18969</th>\n",
       "      <td>2020-03-14</td>\n",
       "      <td>NA</td>\n",
       "      <td>Namibia</td>\n",
       "      <td>AFRO</td>\n",
       "      <td>2</td>\n",
       "      <td>2</td>\n",
       "      <td>0</td>\n",
       "      <td>0</td>\n",
       "    </tr>\n",
       "    <tr>\n",
       "      <th>18970</th>\n",
       "      <td>2020-03-15</td>\n",
       "      <td>NA</td>\n",
       "      <td>Namibia</td>\n",
       "      <td>AFRO</td>\n",
       "      <td>0</td>\n",
       "      <td>2</td>\n",
       "      <td>0</td>\n",
       "      <td>0</td>\n",
       "    </tr>\n",
       "    <tr>\n",
       "      <th>18971</th>\n",
       "      <td>2020-03-16</td>\n",
       "      <td>NA</td>\n",
       "      <td>Namibia</td>\n",
       "      <td>AFRO</td>\n",
       "      <td>0</td>\n",
       "      <td>2</td>\n",
       "      <td>0</td>\n",
       "      <td>0</td>\n",
       "    </tr>\n",
       "    <tr>\n",
       "      <th>18972</th>\n",
       "      <td>2020-03-17</td>\n",
       "      <td>NA</td>\n",
       "      <td>Namibia</td>\n",
       "      <td>AFRO</td>\n",
       "      <td>0</td>\n",
       "      <td>2</td>\n",
       "      <td>0</td>\n",
       "      <td>0</td>\n",
       "    </tr>\n",
       "    <tr>\n",
       "      <th>18973</th>\n",
       "      <td>2020-03-18</td>\n",
       "      <td>NA</td>\n",
       "      <td>Namibia</td>\n",
       "      <td>AFRO</td>\n",
       "      <td>0</td>\n",
       "      <td>2</td>\n",
       "      <td>0</td>\n",
       "      <td>0</td>\n",
       "    </tr>\n",
       "    <tr>\n",
       "      <th>...</th>\n",
       "      <td>...</td>\n",
       "      <td>...</td>\n",
       "      <td>...</td>\n",
       "      <td>...</td>\n",
       "      <td>...</td>\n",
       "      <td>...</td>\n",
       "      <td>...</td>\n",
       "      <td>...</td>\n",
       "    </tr>\n",
       "    <tr>\n",
       "      <th>19096</th>\n",
       "      <td>2020-07-19</td>\n",
       "      <td>NA</td>\n",
       "      <td>Namibia</td>\n",
       "      <td>AFRO</td>\n",
       "      <td>125</td>\n",
       "      <td>1203</td>\n",
       "      <td>0</td>\n",
       "      <td>2</td>\n",
       "    </tr>\n",
       "    <tr>\n",
       "      <th>19097</th>\n",
       "      <td>2020-07-20</td>\n",
       "      <td>NA</td>\n",
       "      <td>Namibia</td>\n",
       "      <td>AFRO</td>\n",
       "      <td>44</td>\n",
       "      <td>1247</td>\n",
       "      <td>1</td>\n",
       "      <td>3</td>\n",
       "    </tr>\n",
       "    <tr>\n",
       "      <th>19098</th>\n",
       "      <td>2020-07-21</td>\n",
       "      <td>NA</td>\n",
       "      <td>Namibia</td>\n",
       "      <td>AFRO</td>\n",
       "      <td>97</td>\n",
       "      <td>1344</td>\n",
       "      <td>1</td>\n",
       "      <td>4</td>\n",
       "    </tr>\n",
       "    <tr>\n",
       "      <th>19099</th>\n",
       "      <td>2020-07-22</td>\n",
       "      <td>NA</td>\n",
       "      <td>Namibia</td>\n",
       "      <td>AFRO</td>\n",
       "      <td>22</td>\n",
       "      <td>1366</td>\n",
       "      <td>3</td>\n",
       "      <td>7</td>\n",
       "    </tr>\n",
       "    <tr>\n",
       "      <th>19100</th>\n",
       "      <td>2020-07-23</td>\n",
       "      <td>NA</td>\n",
       "      <td>Namibia</td>\n",
       "      <td>AFRO</td>\n",
       "      <td>36</td>\n",
       "      <td>1402</td>\n",
       "      <td>0</td>\n",
       "      <td>7</td>\n",
       "    </tr>\n",
       "  </tbody>\n",
       "</table>\n",
       "<p>132 rows × 8 columns</p>\n",
       "</div>"
      ],
      "text/plain": [
       "      date_reported country_code  country who_region  new_cases  \\\n",
       "18969    2020-03-14           NA  Namibia       AFRO          2   \n",
       "18970    2020-03-15           NA  Namibia       AFRO          0   \n",
       "18971    2020-03-16           NA  Namibia       AFRO          0   \n",
       "18972    2020-03-17           NA  Namibia       AFRO          0   \n",
       "18973    2020-03-18           NA  Namibia       AFRO          0   \n",
       "...             ...          ...      ...        ...        ...   \n",
       "19096    2020-07-19           NA  Namibia       AFRO        125   \n",
       "19097    2020-07-20           NA  Namibia       AFRO         44   \n",
       "19098    2020-07-21           NA  Namibia       AFRO         97   \n",
       "19099    2020-07-22           NA  Namibia       AFRO         22   \n",
       "19100    2020-07-23           NA  Namibia       AFRO         36   \n",
       "\n",
       "       cumulative_cases  new_deaths  cumulative_deaths  \n",
       "18969                 2           0                  0  \n",
       "18970                 2           0                  0  \n",
       "18971                 2           0                  0  \n",
       "18972                 2           0                  0  \n",
       "18973                 2           0                  0  \n",
       "...                 ...         ...                ...  \n",
       "19096              1203           0                  2  \n",
       "19097              1247           1                  3  \n",
       "19098              1344           1                  4  \n",
       "19099              1366           3                  7  \n",
       "19100              1402           0                  7  \n",
       "\n",
       "[132 rows x 8 columns]"
      ]
     },
     "execution_count": 31,
     "metadata": {},
     "output_type": "execute_result"
    }
   ],
   "source": [
    "df[df.country_code == 'NA']"
   ]
  },
  {
   "cell_type": "code",
   "execution_count": 32,
   "metadata": {
    "scrolled": false
   },
   "outputs": [],
   "source": [
    "df[df['country_code'] == ' ']\n",
    "df['country_code'].replace(' ', 'Other', inplace = True)"
   ]
  },
  {
   "cell_type": "code",
   "execution_count": null,
   "metadata": {
    "scrolled": true
   },
   "outputs": [],
   "source": []
  },
  {
   "cell_type": "code",
   "execution_count": 33,
   "metadata": {
    "scrolled": false
   },
   "outputs": [
    {
     "data": {
      "text/plain": [
       "date_reported        0\n",
       "country_code         0\n",
       "country              0\n",
       "who_region           0\n",
       "new_cases            0\n",
       "cumulative_cases     0\n",
       "new_deaths           0\n",
       "cumulative_deaths    0\n",
       "dtype: int64"
      ]
     },
     "execution_count": 33,
     "metadata": {},
     "output_type": "execute_result"
    }
   ],
   "source": [
    "df.isnull().sum()"
   ]
  },
  {
   "cell_type": "code",
   "execution_count": 34,
   "metadata": {
    "scrolled": false
   },
   "outputs": [
    {
     "data": {
      "text/plain": [
       "Index(['date_reported', 'country_code', 'country', 'who_region', 'new_cases',\n",
       "       'cumulative_cases', 'new_deaths', 'cumulative_deaths'],\n",
       "      dtype='object')"
      ]
     },
     "execution_count": 34,
     "metadata": {},
     "output_type": "execute_result"
    }
   ],
   "source": [
    "df.columns"
   ]
  },
  {
   "cell_type": "code",
   "execution_count": 35,
   "metadata": {},
   "outputs": [],
   "source": [
    "df['date_reported'] = pd.to_datetime(df['date_reported'])"
   ]
  },
  {
   "cell_type": "code",
   "execution_count": 36,
   "metadata": {},
   "outputs": [
    {
     "name": "stdout",
     "output_type": "stream",
     "text": [
      "<class 'pandas.core.frame.DataFrame'>\n",
      "RangeIndex: 30148 entries, 0 to 30147\n",
      "Data columns (total 8 columns):\n",
      " #   Column             Non-Null Count  Dtype         \n",
      "---  ------             --------------  -----         \n",
      " 0   date_reported      30148 non-null  datetime64[ns]\n",
      " 1   country_code       30148 non-null  object        \n",
      " 2   country            30148 non-null  object        \n",
      " 3   who_region         30148 non-null  object        \n",
      " 4   new_cases          30148 non-null  int64         \n",
      " 5   cumulative_cases   30148 non-null  int64         \n",
      " 6   new_deaths         30148 non-null  int64         \n",
      " 7   cumulative_deaths  30148 non-null  int64         \n",
      "dtypes: datetime64[ns](1), int64(4), object(3)\n",
      "memory usage: 1.8+ MB\n"
     ]
    }
   ],
   "source": [
    "df.info()"
   ]
  },
  {
   "cell_type": "code",
   "execution_count": 37,
   "metadata": {},
   "outputs": [],
   "source": [
    "df['split'] =  df['date_reported'].astype(str).str.split('-')"
   ]
  },
  {
   "cell_type": "code",
   "execution_count": 40,
   "metadata": {},
   "outputs": [
    {
     "name": "stdout",
     "output_type": "stream",
     "text": [
      "<class 'pandas.core.frame.DataFrame'>\n",
      "RangeIndex: 30148 entries, 0 to 30147\n",
      "Data columns (total 9 columns):\n",
      " #   Column             Non-Null Count  Dtype         \n",
      "---  ------             --------------  -----         \n",
      " 0   date_reported      30148 non-null  datetime64[ns]\n",
      " 1   country_code       30148 non-null  object        \n",
      " 2   country            30148 non-null  object        \n",
      " 3   who_region         30148 non-null  object        \n",
      " 4   new_cases          30148 non-null  int64         \n",
      " 5   cumulative_cases   30148 non-null  int64         \n",
      " 6   new_deaths         30148 non-null  int64         \n",
      " 7   cumulative_deaths  30148 non-null  int64         \n",
      " 8   split              30148 non-null  object        \n",
      "dtypes: datetime64[ns](1), int64(4), object(4)\n",
      "memory usage: 2.1+ MB\n"
     ]
    }
   ],
   "source": [
    "df.info()"
   ]
  },
  {
   "cell_type": "code",
   "execution_count": 43,
   "metadata": {
    "scrolled": false
   },
   "outputs": [
    {
     "name": "stdout",
     "output_type": "stream",
     "text": [
      "<class 'pandas.core.frame.DataFrame'>\n",
      "RangeIndex: 30148 entries, 0 to 30147\n",
      "Data columns (total 9 columns):\n",
      " #   Column             Non-Null Count  Dtype         \n",
      "---  ------             --------------  -----         \n",
      " 0   date_reported      30148 non-null  datetime64[ns]\n",
      " 1   country_code       30148 non-null  object        \n",
      " 2   country            30148 non-null  object        \n",
      " 3   who_region         30148 non-null  object        \n",
      " 4   new_cases          30148 non-null  int64         \n",
      " 5   cumulative_cases   30148 non-null  int64         \n",
      " 6   new_deaths         30148 non-null  int64         \n",
      " 7   cumulative_deaths  30148 non-null  int64         \n",
      " 8   split              30148 non-null  object        \n",
      "dtypes: datetime64[ns](1), int64(4), object(4)\n",
      "memory usage: 2.1+ MB\n"
     ]
    }
   ],
   "source": [
    "df.info()"
   ]
  },
  {
   "cell_type": "code",
   "execution_count": null,
   "metadata": {
    "scrolled": false
   },
   "outputs": [],
   "source": []
  },
  {
   "cell_type": "code",
   "execution_count": 146,
   "metadata": {
    "scrolled": false
   },
   "outputs": [
    {
     "data": {
      "text/plain": [
       "15"
      ]
     },
     "execution_count": 146,
     "metadata": {},
     "output_type": "execute_result"
    }
   ],
   "source": [
    "plus_five = lambda x: x+5\n",
    "plus_five(10)"
   ]
  },
  {
   "cell_type": "code",
   "execution_count": 44,
   "metadata": {},
   "outputs": [
    {
     "name": "stdout",
     "output_type": "stream",
     "text": [
      "<class 'pandas.core.frame.DataFrame'>\n",
      "RangeIndex: 30148 entries, 0 to 30147\n",
      "Data columns (total 12 columns):\n",
      " #   Column             Non-Null Count  Dtype         \n",
      "---  ------             --------------  -----         \n",
      " 0   date_reported      30148 non-null  datetime64[ns]\n",
      " 1   country_code       30148 non-null  object        \n",
      " 2   country            30148 non-null  object        \n",
      " 3   who_region         30148 non-null  object        \n",
      " 4   new_cases          30148 non-null  int64         \n",
      " 5   cumulative_cases   30148 non-null  int64         \n",
      " 6   new_deaths         30148 non-null  int64         \n",
      " 7   cumulative_deaths  30148 non-null  int64         \n",
      " 8   split              30148 non-null  object        \n",
      " 9   month              30148 non-null  object        \n",
      " 10  day                30148 non-null  object        \n",
      " 11  year               30148 non-null  object        \n",
      "dtypes: datetime64[ns](1), int64(4), object(7)\n",
      "memory usage: 2.8+ MB\n"
     ]
    }
   ],
   "source": [
    "df['month'] = [x[1] for x in df['split']]\n",
    "df['day'] =[ x[2] for x in df['split']]\n",
    "df['year'] = [x[0] for x in df['split']]\n",
    "df.info()"
   ]
  },
  {
   "cell_type": "code",
   "execution_count": 45,
   "metadata": {},
   "outputs": [
    {
     "data": {
      "text/html": [
       "<div>\n",
       "<style scoped>\n",
       "    .dataframe tbody tr th:only-of-type {\n",
       "        vertical-align: middle;\n",
       "    }\n",
       "\n",
       "    .dataframe tbody tr th {\n",
       "        vertical-align: top;\n",
       "    }\n",
       "\n",
       "    .dataframe thead th {\n",
       "        text-align: right;\n",
       "    }\n",
       "</style>\n",
       "<table border=\"1\" class=\"dataframe\">\n",
       "  <thead>\n",
       "    <tr style=\"text-align: right;\">\n",
       "      <th></th>\n",
       "      <th>date_reported</th>\n",
       "      <th>country_code</th>\n",
       "      <th>country</th>\n",
       "      <th>who_region</th>\n",
       "      <th>new_cases</th>\n",
       "      <th>cumulative_cases</th>\n",
       "      <th>new_deaths</th>\n",
       "      <th>cumulative_deaths</th>\n",
       "      <th>split</th>\n",
       "      <th>month</th>\n",
       "      <th>day</th>\n",
       "      <th>year</th>\n",
       "    </tr>\n",
       "  </thead>\n",
       "  <tbody>\n",
       "    <tr>\n",
       "      <th>0</th>\n",
       "      <td>2020-02-24</td>\n",
       "      <td>AF</td>\n",
       "      <td>Afghanistan</td>\n",
       "      <td>EMRO</td>\n",
       "      <td>1</td>\n",
       "      <td>1</td>\n",
       "      <td>0</td>\n",
       "      <td>0</td>\n",
       "      <td>[2020, 02, 24]</td>\n",
       "      <td>02</td>\n",
       "      <td>24</td>\n",
       "      <td>2020</td>\n",
       "    </tr>\n",
       "    <tr>\n",
       "      <th>1</th>\n",
       "      <td>2020-02-25</td>\n",
       "      <td>AF</td>\n",
       "      <td>Afghanistan</td>\n",
       "      <td>EMRO</td>\n",
       "      <td>0</td>\n",
       "      <td>1</td>\n",
       "      <td>0</td>\n",
       "      <td>0</td>\n",
       "      <td>[2020, 02, 25]</td>\n",
       "      <td>02</td>\n",
       "      <td>25</td>\n",
       "      <td>2020</td>\n",
       "    </tr>\n",
       "    <tr>\n",
       "      <th>2</th>\n",
       "      <td>2020-02-26</td>\n",
       "      <td>AF</td>\n",
       "      <td>Afghanistan</td>\n",
       "      <td>EMRO</td>\n",
       "      <td>0</td>\n",
       "      <td>1</td>\n",
       "      <td>0</td>\n",
       "      <td>0</td>\n",
       "      <td>[2020, 02, 26]</td>\n",
       "      <td>02</td>\n",
       "      <td>26</td>\n",
       "      <td>2020</td>\n",
       "    </tr>\n",
       "    <tr>\n",
       "      <th>3</th>\n",
       "      <td>2020-02-27</td>\n",
       "      <td>AF</td>\n",
       "      <td>Afghanistan</td>\n",
       "      <td>EMRO</td>\n",
       "      <td>0</td>\n",
       "      <td>1</td>\n",
       "      <td>0</td>\n",
       "      <td>0</td>\n",
       "      <td>[2020, 02, 27]</td>\n",
       "      <td>02</td>\n",
       "      <td>27</td>\n",
       "      <td>2020</td>\n",
       "    </tr>\n",
       "    <tr>\n",
       "      <th>4</th>\n",
       "      <td>2020-02-28</td>\n",
       "      <td>AF</td>\n",
       "      <td>Afghanistan</td>\n",
       "      <td>EMRO</td>\n",
       "      <td>0</td>\n",
       "      <td>1</td>\n",
       "      <td>0</td>\n",
       "      <td>0</td>\n",
       "      <td>[2020, 02, 28]</td>\n",
       "      <td>02</td>\n",
       "      <td>28</td>\n",
       "      <td>2020</td>\n",
       "    </tr>\n",
       "  </tbody>\n",
       "</table>\n",
       "</div>"
      ],
      "text/plain": [
       "  date_reported country_code      country who_region  new_cases  \\\n",
       "0    2020-02-24           AF  Afghanistan       EMRO          1   \n",
       "1    2020-02-25           AF  Afghanistan       EMRO          0   \n",
       "2    2020-02-26           AF  Afghanistan       EMRO          0   \n",
       "3    2020-02-27           AF  Afghanistan       EMRO          0   \n",
       "4    2020-02-28           AF  Afghanistan       EMRO          0   \n",
       "\n",
       "   cumulative_cases  new_deaths  cumulative_deaths           split month day  \\\n",
       "0                 1           0                  0  [2020, 02, 24]    02  24   \n",
       "1                 1           0                  0  [2020, 02, 25]    02  25   \n",
       "2                 1           0                  0  [2020, 02, 26]    02  26   \n",
       "3                 1           0                  0  [2020, 02, 27]    02  27   \n",
       "4                 1           0                  0  [2020, 02, 28]    02  28   \n",
       "\n",
       "   year  \n",
       "0  2020  \n",
       "1  2020  \n",
       "2  2020  \n",
       "3  2020  \n",
       "4  2020  "
      ]
     },
     "execution_count": 45,
     "metadata": {},
     "output_type": "execute_result"
    }
   ],
   "source": [
    "df.head()"
   ]
  },
  {
   "cell_type": "code",
   "execution_count": 46,
   "metadata": {},
   "outputs": [],
   "source": [
    "df.drop('split', axis=1, inplace=True)"
   ]
  },
  {
   "cell_type": "code",
   "execution_count": 47,
   "metadata": {},
   "outputs": [
    {
     "data": {
      "text/html": [
       "<div>\n",
       "<style scoped>\n",
       "    .dataframe tbody tr th:only-of-type {\n",
       "        vertical-align: middle;\n",
       "    }\n",
       "\n",
       "    .dataframe tbody tr th {\n",
       "        vertical-align: top;\n",
       "    }\n",
       "\n",
       "    .dataframe thead th {\n",
       "        text-align: right;\n",
       "    }\n",
       "</style>\n",
       "<table border=\"1\" class=\"dataframe\">\n",
       "  <thead>\n",
       "    <tr style=\"text-align: right;\">\n",
       "      <th></th>\n",
       "      <th>date_reported</th>\n",
       "      <th>country_code</th>\n",
       "      <th>country</th>\n",
       "      <th>who_region</th>\n",
       "      <th>new_cases</th>\n",
       "      <th>cumulative_cases</th>\n",
       "      <th>new_deaths</th>\n",
       "      <th>cumulative_deaths</th>\n",
       "      <th>month</th>\n",
       "      <th>day</th>\n",
       "      <th>year</th>\n",
       "    </tr>\n",
       "  </thead>\n",
       "  <tbody>\n",
       "    <tr>\n",
       "      <th>0</th>\n",
       "      <td>2020-02-24</td>\n",
       "      <td>AF</td>\n",
       "      <td>Afghanistan</td>\n",
       "      <td>EMRO</td>\n",
       "      <td>1</td>\n",
       "      <td>1</td>\n",
       "      <td>0</td>\n",
       "      <td>0</td>\n",
       "      <td>02</td>\n",
       "      <td>24</td>\n",
       "      <td>2020</td>\n",
       "    </tr>\n",
       "    <tr>\n",
       "      <th>1</th>\n",
       "      <td>2020-02-25</td>\n",
       "      <td>AF</td>\n",
       "      <td>Afghanistan</td>\n",
       "      <td>EMRO</td>\n",
       "      <td>0</td>\n",
       "      <td>1</td>\n",
       "      <td>0</td>\n",
       "      <td>0</td>\n",
       "      <td>02</td>\n",
       "      <td>25</td>\n",
       "      <td>2020</td>\n",
       "    </tr>\n",
       "    <tr>\n",
       "      <th>2</th>\n",
       "      <td>2020-02-26</td>\n",
       "      <td>AF</td>\n",
       "      <td>Afghanistan</td>\n",
       "      <td>EMRO</td>\n",
       "      <td>0</td>\n",
       "      <td>1</td>\n",
       "      <td>0</td>\n",
       "      <td>0</td>\n",
       "      <td>02</td>\n",
       "      <td>26</td>\n",
       "      <td>2020</td>\n",
       "    </tr>\n",
       "    <tr>\n",
       "      <th>3</th>\n",
       "      <td>2020-02-27</td>\n",
       "      <td>AF</td>\n",
       "      <td>Afghanistan</td>\n",
       "      <td>EMRO</td>\n",
       "      <td>0</td>\n",
       "      <td>1</td>\n",
       "      <td>0</td>\n",
       "      <td>0</td>\n",
       "      <td>02</td>\n",
       "      <td>27</td>\n",
       "      <td>2020</td>\n",
       "    </tr>\n",
       "    <tr>\n",
       "      <th>4</th>\n",
       "      <td>2020-02-28</td>\n",
       "      <td>AF</td>\n",
       "      <td>Afghanistan</td>\n",
       "      <td>EMRO</td>\n",
       "      <td>0</td>\n",
       "      <td>1</td>\n",
       "      <td>0</td>\n",
       "      <td>0</td>\n",
       "      <td>02</td>\n",
       "      <td>28</td>\n",
       "      <td>2020</td>\n",
       "    </tr>\n",
       "  </tbody>\n",
       "</table>\n",
       "</div>"
      ],
      "text/plain": [
       "  date_reported country_code      country who_region  new_cases  \\\n",
       "0    2020-02-24           AF  Afghanistan       EMRO          1   \n",
       "1    2020-02-25           AF  Afghanistan       EMRO          0   \n",
       "2    2020-02-26           AF  Afghanistan       EMRO          0   \n",
       "3    2020-02-27           AF  Afghanistan       EMRO          0   \n",
       "4    2020-02-28           AF  Afghanistan       EMRO          0   \n",
       "\n",
       "   cumulative_cases  new_deaths  cumulative_deaths month day  year  \n",
       "0                 1           0                  0    02  24  2020  \n",
       "1                 1           0                  0    02  25  2020  \n",
       "2                 1           0                  0    02  26  2020  \n",
       "3                 1           0                  0    02  27  2020  \n",
       "4                 1           0                  0    02  28  2020  "
      ]
     },
     "execution_count": 47,
     "metadata": {},
     "output_type": "execute_result"
    }
   ],
   "source": [
    "df.head()"
   ]
  },
  {
   "cell_type": "code",
   "execution_count": 48,
   "metadata": {},
   "outputs": [
    {
     "name": "stdout",
     "output_type": "stream",
     "text": [
      "<class 'pandas.core.frame.DataFrame'>\n",
      "RangeIndex: 30148 entries, 0 to 30147\n",
      "Data columns (total 11 columns):\n",
      " #   Column             Non-Null Count  Dtype         \n",
      "---  ------             --------------  -----         \n",
      " 0   date_reported      30148 non-null  datetime64[ns]\n",
      " 1   country_code       30148 non-null  object        \n",
      " 2   country            30148 non-null  object        \n",
      " 3   who_region         30148 non-null  object        \n",
      " 4   new_cases          30148 non-null  int64         \n",
      " 5   cumulative_cases   30148 non-null  int64         \n",
      " 6   new_deaths         30148 non-null  int64         \n",
      " 7   cumulative_deaths  30148 non-null  int64         \n",
      " 8   month              30148 non-null  object        \n",
      " 9   day                30148 non-null  object        \n",
      " 10  year               30148 non-null  object        \n",
      "dtypes: datetime64[ns](1), int64(4), object(6)\n",
      "memory usage: 2.5+ MB\n"
     ]
    }
   ],
   "source": [
    "df.info()"
   ]
  }
 ],
 "metadata": {
  "kernelspec": {
   "display_name": "Python 3",
   "language": "python",
   "name": "python3"
  },
  "language_info": {
   "codemirror_mode": {
    "name": "ipython",
    "version": 3
   },
   "file_extension": ".py",
   "mimetype": "text/x-python",
   "name": "python",
   "nbconvert_exporter": "python",
   "pygments_lexer": "ipython3",
   "version": "3.7.6"
  }
 },
 "nbformat": 4,
 "nbformat_minor": 4
}
